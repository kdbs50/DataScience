{
 "cells": [
  {
   "cell_type": "markdown",
   "metadata": {},
   "source": [
    "# Indian Election Analysis\n",
    "\n",
    "India's lower house of Parliament,the Lok Sabha, has 543 seats in total.Members of Lok Sabha (House of the People) or the lower house of India's Parliament are elected by being voted upon by all adult citizens of India, from a set of candidates who stand in their respective constituencies. Every adult citizen of India can vote only in their constituency. Candidates who win the Lok Sabha elections are called 'Member of Parliament' and hold their seats for five years or until the body is dissolved by the President on the advice of the council of ministers.\n",
    "\n",
    "There are more than 700 million voters with more than 800,000 polling stations.\n",
    "\n",
    "The Lok Sabha election is a very complex affair as it involves a lot of factors. It is this very fact that makes it a perfect topic to analyze.\n",
    "\n",
    "Currently there are two major parties in India, Bhartiya Janta Party(BJP) and Indian National Congress(INC).\n",
    "\n",
    "As India is country of diversities, and each region is very different from every other region, there are a lot of regional or state parties having major influences. These parties can either support any of the alliance to make a government or can stay independent.\n",
    "\n",
    "There are two major alliances, the NDA led by BJP and the UPA led by INC.\n",
    "\n",
    "## About the data set\n",
    "\n",
    "### There are two datasets:\n",
    "\n",
    "#### 1. 2009 Candidate dataset:\n",
    "\n",
    "The candidate dataset has 15 features namely  'ST_CODE', 'State_name', 'Month', 'Year', 'PC_Number', 'PC_name', 'PC_Type', 'Candidate_Name', 'Candidate_Sex', 'Candidate_Category', 'Candidate_Age', 'Party_Abbreviation', 'Total_Votes_Polled', 'Position','Alliance'.\n",
    "\n",
    "#### 2. 2009 Electors dataset\n",
    "\n",
    "The elector dataset consist of 8 features namely 'STATE CODE', 'STATE', 'PC NO', 'PARLIAMENTARY CONSTITUENCY','Total voters', 'Total_Electors', 'TOT_CONTESTANT', 'POLL PERCENTAGE'."
   ]
  },
  {
   "cell_type": "markdown",
   "metadata": {},
   "source": [
    "## Loading necessary Libraries and dataset"
   ]
  },
  {
   "cell_type": "code",
   "execution_count": 1,
   "metadata": {},
   "outputs": [],
   "source": [
    "import pandas as pd\n",
    "import numpy as np\n",
    "import matplotlib.pyplot as plt\n",
    "import warnings\n",
    "warnings.filterwarnings(\"ignore\")\n",
    "\n",
    "# Read both the datasets\n"
   ]
  },
  {
   "cell_type": "markdown",
   "metadata": {},
   "source": [
    "## Task 1 : Plot a bar chart to compare the number of male and female candidates in the election"
   ]
  },
  {
   "cell_type": "code",
   "execution_count": 2,
   "metadata": {},
   "outputs": [],
   "source": [
    "# Finding the value counts of both the genders\n",
    "\n",
    "# Stroing the counts in a variable  \n",
    "\n",
    "# Plotting a bar graph\n"
   ]
  },
  {
   "cell_type": "markdown",
   "metadata": {},
   "source": [
    "## Task 2 : Plot a histogram of the age of all the candidates as well as of the winner amongst them. Compare them and note an observation"
   ]
  },
  {
   "cell_type": "code",
   "execution_count": 3,
   "metadata": {},
   "outputs": [],
   "source": [
    "# Selecting the subset of the data with winner candidates\n",
    "\n",
    "# Histogram of the age of all the candidates\n",
    "\n"
   ]
  },
  {
   "cell_type": "markdown",
   "metadata": {},
   "source": [
    "## Task 3 : Plot a bar graph to get the vote shares of different parties"
   ]
  },
  {
   "cell_type": "code",
   "execution_count": 4,
   "metadata": {},
   "outputs": [],
   "source": [
    "# Group the dataframe by 'Party_Abbreviation' and sum the 'Total _Votes_Polled'\n",
    "\n",
    "# Plot the vote share with respect to different parties\n"
   ]
  },
  {
   "cell_type": "markdown",
   "metadata": {},
   "source": [
    "## Task 4 : Plot a barplot to compare the mean poll percentage of all the states"
   ]
  },
  {
   "cell_type": "code",
   "execution_count": 5,
   "metadata": {},
   "outputs": [],
   "source": [
    "import seaborn as sns\n",
    "\n",
    "# Mean statistics of all the states\n",
    "\n",
    "# Creating a dictionary of states and poll percentage\n",
    "\n",
    "# States and their poll percentage\n",
    "\n",
    "# Creating a dataframe\n",
    "\n",
    "# Generating a bar plot\n"
   ]
  },
  {
   "cell_type": "markdown",
   "metadata": {},
   "source": [
    "## Task 5 : Plot a bar plot to compare the seats won by different parties in Uttar Pradesh"
   ]
  },
  {
   "cell_type": "code",
   "execution_count": null,
   "metadata": {},
   "outputs": [],
   "source": []
  },
  {
   "cell_type": "markdown",
   "metadata": {},
   "source": [
    "## Task 6 : Plot a stacked bar chart to compare the number of seats won by different `Alliances` in Gujarat,Madhya Pradesh and Maharashtra. "
   ]
  },
  {
   "cell_type": "code",
   "execution_count": 6,
   "metadata": {},
   "outputs": [],
   "source": [
    "# Subset of winner candidates\n",
    "\n",
    "# Subset the the dataset for the states of Gujarat, Maharashtra and Madhya Pradesh\n",
    "\n",
    "# Grouping the states by alliances\n",
    "\n",
    "# Stacked bar chart\n"
   ]
  },
  {
   "cell_type": "markdown",
   "metadata": {},
   "source": [
    "## Task 7 : Plot a grouped bar chart to compare the number of winner candidates on the basis of their caste in the states of Andhra Pradesh, Kerala, Tamil Nadu and Karnataka"
   ]
  },
  {
   "cell_type": "code",
   "execution_count": 7,
   "metadata": {},
   "outputs": [],
   "source": [
    "# Subset containing data of the given states\n",
    "\n",
    "# Subset the data with the winner of each constituency of the mentioned states\n",
    "\n",
    "# Group the data according to `Alliance` and `Candidate_Category`\n",
    "\n",
    "# Plotting a grouped bar chart\n",
    "\n",
    "# Modifying Axis Labels\n"
   ]
  },
  {
   "cell_type": "markdown",
   "metadata": {},
   "source": [
    "## Task 8 : Plot a horizontal bar graph of the Parliamentary constituency with total voters less than 100000"
   ]
  },
  {
   "cell_type": "code",
   "execution_count": 8,
   "metadata": {},
   "outputs": [],
   "source": [
    "# Constituency with less than 100000 voters\n",
    "\n",
    "# Plot a horizontal bar graph to compare constituencies with less than 1000000 voters\n"
   ]
  },
  {
   "cell_type": "markdown",
   "metadata": {},
   "source": [
    "## Task 9: Plot a pie chart with the top 10 parties with majority seats in the elections"
   ]
  },
  {
   "cell_type": "code",
   "execution_count": 9,
   "metadata": {},
   "outputs": [],
   "source": [
    "# Candidates with 1st position in their respective constituiency\n",
    "\n",
    "# Find the parties with the number of seats won by them \n",
    "\n",
    "# count of other regional parties\n",
    "\n",
    "# Pie chart\n"
   ]
  },
  {
   "cell_type": "markdown",
   "metadata": {},
   "source": [
    "## Task 10 : Plot a pie diagram for top 9 states with most number of seats"
   ]
  },
  {
   "cell_type": "code",
   "execution_count": 10,
   "metadata": {},
   "outputs": [],
   "source": [
    "# Top 9 states with maximum number of seats\n",
    "\n",
    "# Sum of other states\n",
    "\n",
    "# Function to convert percentages into actual values\n",
    "\n",
    "# PLotting the pie chart\n"
   ]
  }
 ],
 "metadata": {
  "kernelspec": {
   "display_name": "Python 3",
   "language": "python",
   "name": "python3"
  },
  "language_info": {
   "codemirror_mode": {
    "name": "ipython",
    "version": 3
   },
   "file_extension": ".py",
   "mimetype": "text/x-python",
   "name": "python",
   "nbconvert_exporter": "python",
   "pygments_lexer": "ipython3",
   "version": "3.6.5"
  }
 },
 "nbformat": 4,
 "nbformat_minor": 2
}
