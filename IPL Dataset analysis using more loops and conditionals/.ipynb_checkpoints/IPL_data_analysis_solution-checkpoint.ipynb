{
 "cells": [
  {
   "cell_type": "markdown",
   "metadata": {},
   "source": [
    "# IPL Dataset Analysis\n",
    "\n",
    "## Problem Statement\n",
    "We want to know as to what happens during an IPL match which raises several questions in our mind with our limited knowledge about the game called cricket on which it is based. This analysis is done to know as which factors led one of the team to win and how does it matter.\n",
    "\n",
    "## About the Dataset :\n",
    "The Indian Premier League (IPL) is a professional T20 cricket league in India contested during April-May of every year by teams representing Indian cities. It is the most-attended cricket league in the world and ranks sixth among all the sports leagues. It has teams with players from around the world and is very competitive and entertaining with a lot of close matches between teams.\n",
    "\n",
    "The IPL and other cricket related datasets are available at [cricsheet.org](https://cricsheet.org). Feel free to visit the website and explore the data by yourself as exploring new sources of data is one of the interesting activities a data scientist gets to do.\n",
    "\n",
    "## About the dataset:\n",
    "Snapshot of the data you will be working on:<br>\n",
    "<br>\n",
    "The dataset 136522 data points and 23 features<br>\n",
    "\n",
    "|Features|Description|\n",
    "|-----|-----|\n",
    "|match_code|Code pertaining to individual match|\n",
    "|date|Date of the match played|\n",
    "|city|City where the match was played|\n",
    "|venue|Stadium in that city where the match was played|\n",
    "|team1|team1|\n",
    "|team2|team2|\n",
    "|toss_winner|Who won the toss out of two teams|\n",
    "|toss_decision|toss decision taken by toss winner|\n",
    "|winner|Winner of that match between two teams|\n",
    "|win_type|How did the team won(by wickets or runs etc.)|\n",
    "|win_margin|difference with which the team won| \n",
    "|inning|inning type(1st or 2nd)|\n",
    "|delivery|ball delivery|\n",
    "|batting_team|current team on batting|\n",
    "|batsman|current batsman on strike|\n",
    "|non_striker|batsman on non-strike|\n",
    "|bowler|Current bowler|\n",
    "|runs|runs scored|\n",
    "|extras|extra run scored|\n",
    "|total|total run scored on that delivery including runs and extras|\n",
    "|extras_type|extra run scored by wides or no ball or legby|\n",
    "|player_out|player that got out|\n",
    "|wicket_kind|How did the player got out|\n",
    "|wicket_fielders|Fielder who caught out the player by catch|\n",
    "\n"
   ]
  },
  {
   "cell_type": "markdown",
   "metadata": {},
   "source": [
    "## Load the data"
   ]
  },
  {
   "cell_type": "code",
   "execution_count": 1,
   "metadata": {},
   "outputs": [
    {
     "data": {
      "text/plain": [
       "(136522, 24)"
      ]
     },
     "execution_count": 1,
     "metadata": {},
     "output_type": "execute_result"
    }
   ],
   "source": [
    "# Read the data using pandas module.\n",
    "import pandas as pd\n",
    "import numpy as np\n",
    "\n",
    "df_ipl = pd.read_csv('ipl_data.csv')\n",
    "df_ipl.shape"
   ]
  },
  {
   "cell_type": "markdown",
   "metadata": {},
   "source": [
    "## There are matches being played all around the world. Find the list of unique cities where matches are being played throughout the world."
   ]
  },
  {
   "cell_type": "code",
   "execution_count": 2,
   "metadata": {},
   "outputs": [
    {
     "name": "stdout",
     "output_type": "stream",
     "text": [
      "\n",
      "Venues Played At: ['East London' 'Port Elizabeth' 'Centurion' 'neutral_venue' 'Chennai'\n",
      " 'Jaipur' 'Kolkata' 'Delhi' 'Chandigarh' 'Hyderabad' 'Ranchi' 'Mumbai'\n",
      " 'Bangalore' 'Dharamsala' 'Pune' 'Rajkot' 'Durban' 'Cuttack' 'Cape Town'\n",
      " 'Ahmedabad' 'Johannesburg' 'Visakhapatnam' 'Abu Dhabi' 'Raipur' 'Kochi'\n",
      " 'Kimberley' 'Nagpur' 'Bloemfontein' 'Indore' 'Kanpur']\n"
     ]
    }
   ],
   "source": [
    "print('\\nVenues Played At:',df_ipl['city'].unique())"
   ]
  },
  {
   "cell_type": "markdown",
   "metadata": {},
   "source": [
    "## Find columns containing null values if any."
   ]
  },
  {
   "cell_type": "code",
   "execution_count": 3,
   "metadata": {},
   "outputs": [
    {
     "data": {
      "text/plain": [
       "match_code              0\n",
       "date                    0\n",
       "city                    0\n",
       "venue                   0\n",
       "team1                   0\n",
       "team2                   0\n",
       "toss_winner             0\n",
       "toss_decision           0\n",
       "winner               1818\n",
       "win_type             1818\n",
       "win_margin           1818\n",
       "inning                  0\n",
       "delivery                0\n",
       "batting_team            0\n",
       "batsman                 0\n",
       "non_striker             0\n",
       "bowler                  0\n",
       "runs                    0\n",
       "extras                  0\n",
       "total                   0\n",
       "extras_type        129064\n",
       "player_out         129807\n",
       "wicket_kind        129807\n",
       "wicket_fielders    131657\n",
       "dtype: int64"
      ]
     },
     "execution_count": 3,
     "metadata": {},
     "output_type": "execute_result"
    }
   ],
   "source": [
    "df_ipl.isnull().sum()"
   ]
  },
  {
   "cell_type": "markdown",
   "metadata": {},
   "source": [
    "## Matches are played throughout the world in different countries but they may or may not have multiple venues(stadiums where matches are played). Find the top 5 venues where the most matches are played.\n"
   ]
  },
  {
   "cell_type": "code",
   "execution_count": 4,
   "metadata": {},
   "outputs": [
    {
     "name": "stdout",
     "output_type": "stream",
     "text": [
      "Top 5 favoured grounds are : \n",
      " venue\n",
      "M Chinnaswamy Stadium              58\n",
      "Eden Gardens                       54\n",
      "Feroz Shah Kotla                   53\n",
      "Wankhede Stadium                   49\n",
      "MA Chidambaram Stadium, Chepauk    48\n",
      "Name: match_code, dtype: int64\n"
     ]
    }
   ],
   "source": [
    "venues = df_ipl.groupby('venue')['match_code'].nunique().sort_values(ascending=False)\n",
    "print('Top 5 favoured grounds are : \\n',venues[0:5])\n"
   ]
  },
  {
   "cell_type": "markdown",
   "metadata": {},
   "source": [
    "## Find out how the runs were scored that is the runs count frequency table( number of singles, doubles, boundaries, sixes etc were scored)."
   ]
  },
  {
   "cell_type": "code",
   "execution_count": 5,
   "metadata": {},
   "outputs": [
    {
     "name": "stdout",
     "output_type": "stream",
     "text": [
      "Runs count frequency table:\n",
      " 0    55870\n",
      "1    50087\n",
      "4    15409\n",
      "2     8835\n",
      "6     5806\n",
      "3      473\n",
      "5       42\n",
      "Name: runs, dtype: int64\n"
     ]
    }
   ],
   "source": [
    "runs_counts = df_ipl['runs'].value_counts()\n",
    "print('Runs count frequency table:\\n',runs_counts)\n"
   ]
  },
  {
   "cell_type": "markdown",
   "metadata": {},
   "source": [
    "## IPL seasons are held every year now let's look at our data and extract how many seasons and which year were they played?\n"
   ]
  },
  {
   "cell_type": "code",
   "execution_count": 7,
   "metadata": {},
   "outputs": [
    {
     "name": "stdout",
     "output_type": "stream",
     "text": [
      "The no. of seasons that were played are : 9\n",
      "Seasons played were in : ['2009' '2014' '2011' '2008' '2015' '2010' '2013' '2012' '2016']\n"
     ]
    }
   ],
   "source": [
    "df_ipl['year'] = df_ipl['date'].apply(lambda x : x[:4])\n",
    "\n",
    "print('The no. of seasons that were played are :', len(df_ipl['year'].unique()))\n",
    "print('Seasons played were in :', df_ipl['year'].unique())\n"
   ]
  },
  {
   "cell_type": "markdown",
   "metadata": {},
   "source": [
    "## Find out the total number of matches played in each season also find the total number of runs scored in each season.\n"
   ]
  },
  {
   "cell_type": "code",
   "execution_count": 8,
   "metadata": {},
   "outputs": [
    {
     "name": "stdout",
     "output_type": "stream",
     "text": [
      "Matches held per season are :\n",
      " year\n",
      "2008    58\n",
      "2009    57\n",
      "2010    60\n",
      "2011    73\n",
      "2012    74\n",
      "2013    76\n",
      "2014    60\n",
      "2015    59\n",
      "2016    60\n",
      "Name: match_code, dtype: int64\n",
      "total runs scored per season are: \n",
      " year\n",
      "2008    17936\n",
      "2009    16320\n",
      "2010    18862\n",
      "2011    21154\n",
      "2012    22451\n",
      "2013    22541\n",
      "2014    18909\n",
      "2015    18331\n",
      "2016    18862\n",
      "Name: total, dtype: int64\n"
     ]
    }
   ],
   "source": [
    "# No. of matches played per season\n",
    "matches_per_season = df_ipl.groupby('year')['match_code'].nunique()\n",
    "print('Matches held per season are :\\n', matches_per_season)\n",
    "\n",
    "# Total runs across the seasons\n",
    "runs_per_season = df_ipl.groupby('year')['total'].sum()\n",
    "print('total runs scored per season are: \\n', runs_per_season)\n"
   ]
  },
  {
   "cell_type": "markdown",
   "metadata": {},
   "source": [
    "## There are teams which are high performing and low performing. Let's look at the aspect of performance of an individual team. Filter the data and aggregate the runs scored by each team. Display top 10 results which are having runs scored over 200."
   ]
  },
  {
   "cell_type": "code",
   "execution_count": 9,
   "metadata": {},
   "outputs": [
    {
     "data": {
      "text/html": [
       "<div>\n",
       "<style scoped>\n",
       "    .dataframe tbody tr th:only-of-type {\n",
       "        vertical-align: middle;\n",
       "    }\n",
       "\n",
       "    .dataframe tbody tr th {\n",
       "        vertical-align: top;\n",
       "    }\n",
       "\n",
       "    .dataframe thead th {\n",
       "        text-align: right;\n",
       "    }\n",
       "</style>\n",
       "<table border=\"1\" class=\"dataframe\">\n",
       "  <thead>\n",
       "    <tr style=\"text-align: right;\">\n",
       "      <th></th>\n",
       "      <th>match_code</th>\n",
       "      <th>inning</th>\n",
       "      <th>team1</th>\n",
       "      <th>team2</th>\n",
       "      <th>total</th>\n",
       "    </tr>\n",
       "  </thead>\n",
       "  <tbody>\n",
       "    <tr>\n",
       "      <th>701</th>\n",
       "      <td>598027</td>\n",
       "      <td>1</td>\n",
       "      <td>Royal Challengers Bangalore</td>\n",
       "      <td>Pune Warriors</td>\n",
       "      <td>263</td>\n",
       "    </tr>\n",
       "    <tr>\n",
       "      <th>1118</th>\n",
       "      <td>980987</td>\n",
       "      <td>1</td>\n",
       "      <td>Royal Challengers Bangalore</td>\n",
       "      <td>Gujarat Lions</td>\n",
       "      <td>248</td>\n",
       "    </tr>\n",
       "    <tr>\n",
       "      <th>292</th>\n",
       "      <td>419137</td>\n",
       "      <td>1</td>\n",
       "      <td>Chennai Super Kings</td>\n",
       "      <td>Rajasthan Royals</td>\n",
       "      <td>246</td>\n",
       "    </tr>\n",
       "    <tr>\n",
       "      <th>2</th>\n",
       "      <td>335983</td>\n",
       "      <td>1</td>\n",
       "      <td>Kings XI Punjab</td>\n",
       "      <td>Chennai Super Kings</td>\n",
       "      <td>240</td>\n",
       "    </tr>\n",
       "    <tr>\n",
       "      <th>1002</th>\n",
       "      <td>829795</td>\n",
       "      <td>1</td>\n",
       "      <td>Mumbai Indians</td>\n",
       "      <td>Royal Challengers Bangalore</td>\n",
       "      <td>235</td>\n",
       "    </tr>\n",
       "    <tr>\n",
       "      <th>472</th>\n",
       "      <td>501260</td>\n",
       "      <td>1</td>\n",
       "      <td>Kings XI Punjab</td>\n",
       "      <td>Royal Challengers Bangalore</td>\n",
       "      <td>232</td>\n",
       "    </tr>\n",
       "    <tr>\n",
       "      <th>398</th>\n",
       "      <td>501223</td>\n",
       "      <td>1</td>\n",
       "      <td>Delhi Daredevils</td>\n",
       "      <td>Kings XI Punjab</td>\n",
       "      <td>231</td>\n",
       "    </tr>\n",
       "    <tr>\n",
       "      <th>851</th>\n",
       "      <td>733987</td>\n",
       "      <td>1</td>\n",
       "      <td>Kings XI Punjab</td>\n",
       "      <td>Chennai Super Kings</td>\n",
       "      <td>231</td>\n",
       "    </tr>\n",
       "    <tr>\n",
       "      <th>1038</th>\n",
       "      <td>980907</td>\n",
       "      <td>1</td>\n",
       "      <td>Royal Challengers Bangalore</td>\n",
       "      <td>Sunrisers Hyderabad</td>\n",
       "      <td>227</td>\n",
       "    </tr>\n",
       "    <tr>\n",
       "      <th>911</th>\n",
       "      <td>734047</td>\n",
       "      <td>1</td>\n",
       "      <td>Chennai Super Kings</td>\n",
       "      <td>Kings XI Punjab</td>\n",
       "      <td>226</td>\n",
       "    </tr>\n",
       "  </tbody>\n",
       "</table>\n",
       "</div>"
      ],
      "text/plain": [
       "      match_code  inning                        team1  \\\n",
       "701       598027       1  Royal Challengers Bangalore   \n",
       "1118      980987       1  Royal Challengers Bangalore   \n",
       "292       419137       1          Chennai Super Kings   \n",
       "2         335983       1              Kings XI Punjab   \n",
       "1002      829795       1               Mumbai Indians   \n",
       "472       501260       1              Kings XI Punjab   \n",
       "398       501223       1             Delhi Daredevils   \n",
       "851       733987       1              Kings XI Punjab   \n",
       "1038      980907       1  Royal Challengers Bangalore   \n",
       "911       734047       1          Chennai Super Kings   \n",
       "\n",
       "                            team2  total  \n",
       "701                 Pune Warriors    263  \n",
       "1118                Gujarat Lions    248  \n",
       "292              Rajasthan Royals    246  \n",
       "2             Chennai Super Kings    240  \n",
       "1002  Royal Challengers Bangalore    235  \n",
       "472   Royal Challengers Bangalore    232  \n",
       "398               Kings XI Punjab    231  \n",
       "851           Chennai Super Kings    231  \n",
       "1038          Sunrisers Hyderabad    227  \n",
       "911               Kings XI Punjab    226  "
      ]
     },
     "execution_count": 9,
     "metadata": {},
     "output_type": "execute_result"
    }
   ],
   "source": [
    "# Teams who have scored more than 200+ runs. Show the top 10 results\n",
    "high_scores=df_ipl.groupby(['match_code', 'inning','team1','team2'])['total'].sum().reset_index() \n",
    "high_scores = high_scores[high_scores['total'] >= 200]\n",
    "high_scores.nlargest(10, 'total')\n"
   ]
  },
  {
   "cell_type": "markdown",
   "metadata": {},
   "source": [
    "## Chasing a 200+ target is difficulty in T-20 format. What are the chances that a team scoring runs above 200 in their 1st inning is chased by the opposition in 2nd inning.\n"
   ]
  },
  {
   "cell_type": "code",
   "execution_count": 10,
   "metadata": {},
   "outputs": [
    {
     "name": "stdout",
     "output_type": "stream",
     "text": [
      "The chances of chasing a target of 200+ in 1st innings are : \n",
      " 42.857142857142854\n"
     ]
    }
   ],
   "source": [
    "high_scores1 = high_scores[high_scores['inning']==1]\n",
    "high_scores2 = high_scores[high_scores['inning']==2]\n",
    "high_scores1=high_scores1.merge(high_scores2[['match_code','inning', 'total']], on='match_code')\n",
    "high_scores1.rename(columns={'inning_x':'inning_1','inning_y':'inning_2','total_x':'inning1_runs','total_y':'inning2_runs'},inplace=True)\n",
    "high_scores1=high_scores1[high_scores1['inning1_runs']>=200]\n",
    "high_scores1['is_score_chased']=1\n",
    "high_scores1['is_score_chased'] = np.where(high_scores1['inning1_runs']<=high_scores1['inning2_runs'], \n",
    "                                           'yes', 'no')\n",
    "chances = high_scores1['is_score_chased'].value_counts()\n",
    "print('The chances of chasing a target of 200+ in 1st innings are : \\n' , chances[1]/14*100)\n",
    "\n"
   ]
  },
  {
   "cell_type": "markdown",
   "metadata": {},
   "source": [
    "## Every season has that one team which is outperforming others and is in great form. Which team has the highest win counts in their respective seasons ?\n",
    "\n"
   ]
  },
  {
   "cell_type": "code",
   "execution_count": 11,
   "metadata": {},
   "outputs": [
    {
     "data": {
      "text/plain": [
       "year  winner                     \n",
       "2008  Rajasthan Royals               13\n",
       "      Kings XI Punjab                10\n",
       "      Chennai Super Kings             9\n",
       "      Delhi Daredevils                7\n",
       "      Mumbai Indians                  7\n",
       "      Kolkata Knight Riders           6\n",
       "      Royal Challengers Bangalore     4\n",
       "      Deccan Chargers                 2\n",
       "2009  Delhi Daredevils               10\n",
       "      Deccan Chargers                 9\n",
       "      Royal Challengers Bangalore     9\n",
       "      Chennai Super Kings             8\n",
       "      Kings XI Punjab                 7\n",
       "      Mumbai Indians                  5\n",
       "      Rajasthan Royals                5\n",
       "      Kolkata Knight Riders           3\n",
       "2010  Mumbai Indians                 11\n",
       "      Chennai Super Kings             9\n",
       "      Deccan Chargers                 8\n",
       "      Royal Challengers Bangalore     8\n",
       "      Delhi Daredevils                7\n",
       "      Kolkata Knight Riders           7\n",
       "      Rajasthan Royals                6\n",
       "      Kings XI Punjab                 3\n",
       "2011  Chennai Super Kings            11\n",
       "      Mumbai Indians                 10\n",
       "      Royal Challengers Bangalore    10\n",
       "      Kolkata Knight Riders           8\n",
       "      Kings XI Punjab                 7\n",
       "      Deccan Chargers                 6\n",
       "                                     ..\n",
       "2013  Sunrisers Hyderabad             9\n",
       "      Kings XI Punjab                 8\n",
       "      Royal Challengers Bangalore     8\n",
       "      Kolkata Knight Riders           6\n",
       "      Pune Warriors                   4\n",
       "      Delhi Daredevils                3\n",
       "2014  Kings XI Punjab                12\n",
       "      Kolkata Knight Riders          11\n",
       "      Chennai Super Kings            10\n",
       "      Mumbai Indians                  7\n",
       "      Rajasthan Royals                6\n",
       "      Sunrisers Hyderabad             6\n",
       "      Royal Challengers Bangalore     5\n",
       "      Delhi Daredevils                2\n",
       "2015  Chennai Super Kings            10\n",
       "      Mumbai Indians                 10\n",
       "      Royal Challengers Bangalore     8\n",
       "      Kolkata Knight Riders           7\n",
       "      Rajasthan Royals                7\n",
       "      Sunrisers Hyderabad             7\n",
       "      Delhi Daredevils                5\n",
       "      Kings XI Punjab                 2\n",
       "2016  Sunrisers Hyderabad            11\n",
       "      Gujarat Lions                   9\n",
       "      Royal Challengers Bangalore     9\n",
       "      Kolkata Knight Riders           8\n",
       "      Delhi Daredevils                7\n",
       "      Mumbai Indians                  7\n",
       "      Rising Pune Supergiants         5\n",
       "      Kings XI Punjab                 4\n",
       "Name: winner, Length: 76, dtype: int64"
      ]
     },
     "execution_count": 11,
     "metadata": {},
     "output_type": "execute_result"
    }
   ],
   "source": [
    "match_wise_data = df_ipl.drop_duplicates(subset = 'match_code', keep='first').reset_index(drop=True)\n",
    "match_wise_data.groupby('year')['winner'].value_counts(ascending=False)"
   ]
  },
  {
   "cell_type": "code",
   "execution_count": null,
   "metadata": {},
   "outputs": [],
   "source": []
  }
 ],
 "metadata": {
  "kernelspec": {
   "display_name": "Python 3",
   "language": "python",
   "name": "python3"
  },
  "language_info": {
   "codemirror_mode": {
    "name": "ipython",
    "version": 3
   },
   "file_extension": ".py",
   "mimetype": "text/x-python",
   "name": "python",
   "nbconvert_exporter": "python",
   "pygments_lexer": "ipython3",
   "version": "3.6.5"
  }
 },
 "nbformat": 4,
 "nbformat_minor": 2
}
