{
 "cells": [
  {
   "cell_type": "markdown",
   "metadata": {},
   "source": [
    "# Zomato Data Analysis\n",
    "\n",
    "Zomato is an Indian restaurant aggregator and food delivery start-up founded by Deepinder Goyal and Pankaj Chaddah in 2008. Zomato provides information, menus and user-reviews of restaurants as well as food delivery options from partner restaurants in select cities.\n",
    "\n",
    "## Problem Statement\n",
    "In this session, we are going to analyze the restaurant business data. We want to study the food habbits of zomato users, their preferances, ratings etc. \n",
    "\n",
    "## Data description:\n",
    "\n",
    "The collected data has been stored in the Comma Separated Value file Zomato.csv. Each restaurant in the dataset is uniquely identified by its Restaurant Id. Every Restaurant contains the following variables:\n",
    "\n",
    "• **Restaurant Id**: Unique id of every restaurant across various cities of the world\n",
    "\n",
    "• **Restaurant Name**: Name of the restaurant\n",
    "\n",
    "• **Country Code**: Country in which restaurant is located\n",
    "\n",
    "• **City**: City in which restaurant is located\n",
    "\n",
    "• **Address**: Address of the restaurant\n",
    "\n",
    "• **Locality**: Location in the city\n",
    "\n",
    "• **Locality Verbose**: Detailed description of the locality\n",
    "\n",
    "• **Longitude**: Longitude coordinate of the restaurant's location\n",
    "\n",
    "• **Latitude**: Latitude coordinate of the restaurant's location\n",
    "\n",
    "• **Cuisines**: Cuisines offered by the restaurant\n",
    "\n",
    "• **Average Cost for two**: Cost for two people in different currencies 👫 \n",
    "\n",
    "• **Currency**: Currency of the country\n",
    "\n",
    "• **Has Table booking**: yes/no\n",
    "\n",
    "• **Has Online delivery**: yes/ no\n",
    "\n",
    "• **Is delivering**: yes/ no\n",
    "\n",
    "• **Switch to order menu**: yes/no\n",
    "\n",
    "• **Price range**: range of price of food\n",
    "\n",
    "• **Aggregate Rating**: Average rating out of 5\n",
    "\n",
    "• **Rating color**: depending upon the average rating color\n",
    "\n",
    "• **Rating text**: text on the basis of rating of rating\n",
    "\n",
    "• **Votes**: Number of ratings casted by people\n",
    "\n",
    "\n",
    "**There is another dataset which has the country codes in it**"
   ]
  },
  {
   "cell_type": "markdown",
   "metadata": {},
   "source": [
    "### Import Libraries"
   ]
  },
  {
   "cell_type": "code",
   "execution_count": 1,
   "metadata": {},
   "outputs": [],
   "source": [
    "import os\n",
    "import numpy as np # linear algebra\n",
    "import pandas as pd # data processing, CSV file I/O (e.g. pd.read_csv)\n",
    "import matplotlib.pyplot as plt\n",
    "import seaborn as sns\n",
    "\n",
    "%matplotlib inline"
   ]
  },
  {
   "cell_type": "markdown",
   "metadata": {},
   "source": [
    "### Read the data and merge the two different datasets"
   ]
  },
  {
   "cell_type": "code",
   "execution_count": null,
   "metadata": {},
   "outputs": [],
   "source": []
  },
  {
   "cell_type": "markdown",
   "metadata": {},
   "source": [
    "### Basic Data Study"
   ]
  },
  {
   "cell_type": "code",
   "execution_count": null,
   "metadata": {},
   "outputs": [],
   "source": []
  },
  {
   "cell_type": "markdown",
   "metadata": {},
   "source": [
    "### Number of Restaurants by Country on Zomato\n"
   ]
  },
  {
   "cell_type": "code",
   "execution_count": null,
   "metadata": {},
   "outputs": [],
   "source": []
  },
  {
   "cell_type": "markdown",
   "metadata": {},
   "source": [
    "### Which city has the maximum number of Restaurents?"
   ]
  },
  {
   "cell_type": "code",
   "execution_count": null,
   "metadata": {},
   "outputs": [],
   "source": []
  },
  {
   "cell_type": "markdown",
   "metadata": {},
   "source": [
    "### What is the condition of online delivery in India ?"
   ]
  },
  {
   "cell_type": "code",
   "execution_count": null,
   "metadata": {},
   "outputs": [],
   "source": []
  },
  {
   "cell_type": "markdown",
   "metadata": {},
   "source": [
    "### What are the top cuisines on Zomato?"
   ]
  },
  {
   "cell_type": "code",
   "execution_count": null,
   "metadata": {},
   "outputs": [],
   "source": []
  },
  {
   "cell_type": "markdown",
   "metadata": {},
   "source": [
    "## All this is something we have already done before and will do it later as well, isn't it? \n",
    "## Is there a better way to find out these insgihts without writing much of the code.\n",
    "## This is where Pandas_profiling library enters\n",
    "\n",
    "We need to check are we able to answer the above asked questions with it:\n",
    "\n",
    "* Number of Restaurants by Country on Zomato\n",
    "* Which city has the maximum number of Restaurants?\n",
    "* What is the condition of online delivery in India ?\n",
    "* What are the top cuisines on Zomato?\n",
    "\n",
    "**Conda install the library**"
   ]
  },
  {
   "cell_type": "code",
   "execution_count": null,
   "metadata": {},
   "outputs": [],
   "source": []
  },
  {
   "cell_type": "markdown",
   "metadata": {},
   "source": [
    "### Average Ratings on Countries"
   ]
  },
  {
   "cell_type": "code",
   "execution_count": null,
   "metadata": {},
   "outputs": [],
   "source": []
  },
  {
   "cell_type": "markdown",
   "metadata": {},
   "source": [
    "**Is the restaurent industry so bad or is there something we are missing?**"
   ]
  },
  {
   "cell_type": "markdown",
   "metadata": {},
   "source": [
    "### Plot the ratings histogram for Indian restaurents"
   ]
  },
  {
   "cell_type": "code",
   "execution_count": null,
   "metadata": {},
   "outputs": [],
   "source": []
  },
  {
   "cell_type": "markdown",
   "metadata": {},
   "source": [
    "### More than 2000 restaurents have been rated 0. Check the rating text as well as the votes of these restaurants "
   ]
  },
  {
   "cell_type": "markdown",
   "metadata": {},
   "source": [
    "## Word cloud for the most popular restaurants"
   ]
  },
  {
   "cell_type": "code",
   "execution_count": null,
   "metadata": {},
   "outputs": [],
   "source": []
  },
  {
   "cell_type": "markdown",
   "metadata": {},
   "source": [
    "## Take away activity\n",
    "\n",
    "### What 5 questions would you like to get answers to by looking at the data? We have given you one such question, you all need to add 4 more atleast and can find answers to these by forming teams\n",
    "\n",
    "1. Does the online delivery option affect the Aggregate rating of the restaurants?\n",
    "2. \n",
    "3. \n",
    "4. \n",
    "5. "
   ]
  },
  {
   "cell_type": "code",
   "execution_count": null,
   "metadata": {},
   "outputs": [],
   "source": []
  }
 ],
 "metadata": {
  "kernelspec": {
   "display_name": "Python 3",
   "language": "python",
   "name": "python3"
  },
  "language_info": {
   "codemirror_mode": {
    "name": "ipython",
    "version": 3
   },
   "file_extension": ".py",
   "mimetype": "text/x-python",
   "name": "python",
   "nbconvert_exporter": "python",
   "pygments_lexer": "ipython3",
   "version": "3.8.3"
  }
 },
 "nbformat": 4,
 "nbformat_minor": 4
}
